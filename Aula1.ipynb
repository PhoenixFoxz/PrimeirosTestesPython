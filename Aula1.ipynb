{
  "nbformat": 4,
  "nbformat_minor": 0,
  "metadata": {
    "colab": {
      "provenance": [],
      "authorship_tag": "ABX9TyOEuZ96J3EAm3Z37/W0aTmk",
      "include_colab_link": true
    },
    "kernelspec": {
      "name": "python3",
      "display_name": "Python 3"
    },
    "language_info": {
      "name": "python"
    }
  },
  "cells": [
    {
      "cell_type": "markdown",
      "metadata": {
        "id": "view-in-github",
        "colab_type": "text"
      },
      "source": [
        "<a href=\"https://colab.research.google.com/github/PhoenixFoxz/PrimeirosTestesPython/blob/main/Aula1.ipynb\" target=\"_parent\"><img src=\"https://colab.research.google.com/assets/colab-badge.svg\" alt=\"Open In Colab\"/></a>"
      ]
    },
    {
      "cell_type": "markdown",
      "source": [
        "**inteiro** = int,\n",
        "**decimal** = float,\n",
        "**string** = str,\n",
        "**lógico** = boolean,\n",
        "\n"
      ],
      "metadata": {
        "id": "W6b1ij3AFqz2"
      }
    },
    {
      "cell_type": "code",
      "execution_count": 1,
      "metadata": {
        "colab": {
          "base_uri": "https://localhost:8080/"
        },
        "id": "bWla2_BcA2xl",
        "outputId": "f5c8f273-afa1-476d-ea51-f616b372fe18"
      },
      "outputs": [
        {
          "output_type": "stream",
          "name": "stdout",
          "text": [
            "Hello, World!\n"
          ]
        }
      ],
      "source": [
        "print('Hello, World!') #comando de saída de dados"
      ]
    },
    {
      "cell_type": "code",
      "source": [
        "print(5*2)"
      ],
      "metadata": {
        "colab": {
          "base_uri": "https://localhost:8080/"
        },
        "id": "b4jlVWibENC-",
        "outputId": "59b46546-1fec-4445-ddeb-d2521b193461"
      },
      "execution_count": 3,
      "outputs": [
        {
          "output_type": "stream",
          "name": "stdout",
          "text": [
            "10\n"
          ]
        }
      ]
    },
    {
      "cell_type": "code",
      "source": [
        "print(5/2) #retorna o resultado da divisão"
      ],
      "metadata": {
        "colab": {
          "base_uri": "https://localhost:8080/"
        },
        "id": "Zu8RJ17gEk6R",
        "outputId": "f0d9b268-91ba-42cb-e405-3a2a3067e72c"
      },
      "execution_count": 4,
      "outputs": [
        {
          "output_type": "stream",
          "name": "stdout",
          "text": [
            "2.5\n"
          ]
        }
      ]
    },
    {
      "cell_type": "code",
      "source": [
        "print(5//2) #retorna apenas a parte inteira"
      ],
      "metadata": {
        "colab": {
          "base_uri": "https://localhost:8080/"
        },
        "id": "Y8ykGEyKEoOV",
        "outputId": "c4dafd76-9846-4a37-e6e7-6c5233e2ef3f"
      },
      "execution_count": 6,
      "outputs": [
        {
          "output_type": "stream",
          "name": "stdout",
          "text": [
            "2\n"
          ]
        }
      ]
    },
    {
      "cell_type": "code",
      "source": [
        "print(5**2) #retorna a potência"
      ],
      "metadata": {
        "colab": {
          "base_uri": "https://localhost:8080/"
        },
        "id": "ROFa0qDCEtG1",
        "outputId": "fab7195f-4527-430d-e832-a47163db306d"
      },
      "execution_count": 7,
      "outputs": [
        {
          "output_type": "stream",
          "name": "stdout",
          "text": [
            "25\n"
          ]
        }
      ]
    },
    {
      "cell_type": "code",
      "source": [
        "a = 10 #Inteiro\n",
        "b = 7.5 #Float\n",
        "c = \"teste\" #String"
      ],
      "metadata": {
        "id": "rNH7FkU6FSvu"
      },
      "execution_count": 10,
      "outputs": []
    },
    {
      "cell_type": "code",
      "source": [
        "type(a)"
      ],
      "metadata": {
        "colab": {
          "base_uri": "https://localhost:8080/"
        },
        "id": "Ldb8Ei6hGg-4",
        "outputId": "51820074-8d11-4b45-98d0-91efd4ac617a"
      },
      "execution_count": 14,
      "outputs": [
        {
          "output_type": "execute_result",
          "data": {
            "text/plain": [
              "int"
            ]
          },
          "metadata": {},
          "execution_count": 14
        }
      ]
    },
    {
      "cell_type": "code",
      "source": [
        "type(b)"
      ],
      "metadata": {
        "colab": {
          "base_uri": "https://localhost:8080/"
        },
        "id": "d3iq1ui2G0yl",
        "outputId": "5ad97d3f-f1de-427b-f997-295150b04e82"
      },
      "execution_count": 12,
      "outputs": [
        {
          "output_type": "execute_result",
          "data": {
            "text/plain": [
              "float"
            ]
          },
          "metadata": {},
          "execution_count": 12
        }
      ]
    },
    {
      "cell_type": "code",
      "source": [
        "type(c)"
      ],
      "metadata": {
        "colab": {
          "base_uri": "https://localhost:8080/"
        },
        "id": "Q-ACsg0FG4V2",
        "outputId": "95a489bc-fab1-43c0-d845-e287ac436b1a"
      },
      "execution_count": 13,
      "outputs": [
        {
          "output_type": "execute_result",
          "data": {
            "text/plain": [
              "str"
            ]
          },
          "metadata": {},
          "execution_count": 13
        }
      ]
    },
    {
      "cell_type": "code",
      "source": [
        "nome = input(\"Digite seu nome: \")\n",
        "idade = int(input(\"Digite sua idade: \"))\n",
        "print(f'O nome digitado foi {nome}, e sua idade é {idade}')"
      ],
      "metadata": {
        "colab": {
          "base_uri": "https://localhost:8080/"
        },
        "id": "PviBuc83G49W",
        "outputId": "960ac59b-2109-47b4-ddd6-d44db013213b"
      },
      "execution_count": 22,
      "outputs": [
        {
          "output_type": "stream",
          "name": "stdout",
          "text": [
            "Digite seu nome: Felipe\n",
            "Digite sua idade: 19\n",
            "O nome digitado foi Felipe, e sua idade é 19\n"
          ]
        }
      ]
    },
    {
      "cell_type": "markdown",
      "source": [
        "Teste - Média do aluno"
      ],
      "metadata": {
        "id": "JstmcEnWMss0"
      }
    },
    {
      "cell_type": "code",
      "source": [
        "nome = input(\"Digite o nome do aluno: \")\n",
        "nota1 = int(input(\"Primeira Nota: \"))\n",
        "nota2 = int(input(\"Segundo Nota: \"))\n",
        "nota3 = int(input(\"Terceiro Nota: \"))\n",
        "media = int((nota1 + nota2 + nota3)/3)\n",
        "if media > 6:\n",
        " print(f'O aluno {nome}, está com sua média {media}, está aprovado')\n",
        "else:\n",
        " print(f'O aluno {nome}, está com sua média {media}, está reprovado')"
      ],
      "metadata": {
        "colab": {
          "base_uri": "https://localhost:8080/"
        },
        "id": "QTxcwZMOJHX-",
        "outputId": "93a808af-f2f9-42a8-9367-912143be0658"
      },
      "execution_count": 38,
      "outputs": [
        {
          "output_type": "stream",
          "name": "stdout",
          "text": [
            "Digite o nome do aluno: Felipe\n",
            "Primeira Nota: 1\n",
            "Segundo Nota: 1\n",
            "Terceiro Nota: 1\n",
            "O aluno Felipe, está com sua média 1, está reprovado\n"
          ]
        }
      ]
    },
    {
      "cell_type": "markdown",
      "source": [
        "1. Faça um programa que some dois números e mostre o resultado"
      ],
      "metadata": {
        "id": "6_DkTZxfKKZl"
      }
    },
    {
      "cell_type": "code",
      "source": [
        "#Versão 1\n",
        "n1 = 5\n",
        "n2 = 8\n",
        "soma = n1 + n2\n",
        "print(f'A soma dos números é {soma}')"
      ],
      "metadata": {
        "colab": {
          "base_uri": "https://localhost:8080/"
        },
        "id": "Q7yxl4R5KQOo",
        "outputId": "7cecb249-e6b5-4d1b-ed22-a30a5c88b95f"
      },
      "execution_count": 30,
      "outputs": [
        {
          "output_type": "stream",
          "name": "stdout",
          "text": [
            "A soma dos números é 13\n"
          ]
        }
      ]
    },
    {
      "cell_type": "markdown",
      "source": [
        "**Comando de entrada de dados - Input**"
      ],
      "metadata": {
        "id": "dA2NkEjWLSk7"
      }
    },
    {
      "cell_type": "code",
      "source": [
        "nome = input('Digite seu nome: ')#ler dados do teclado\n",
        "print(f'O nome digitado foi {nome}')"
      ],
      "metadata": {
        "id": "askIE3RrLYQE"
      },
      "execution_count": null,
      "outputs": []
    },
    {
      "cell_type": "markdown",
      "source": [
        "2. Refaça o programa 1 usando agora o input para ler os números do teclado"
      ],
      "metadata": {
        "id": "il0O3F-bMgej"
      }
    },
    {
      "cell_type": "code",
      "source": [
        "#Versão 2\n",
        "n1 = int(input('Digite o primeiro número: '))\n",
        "n2 = int(input('Digite o segundo número: '))\n",
        "soma = n1 + n2\n",
        "print(f'A soma dos números é {soma}')"
      ],
      "metadata": {
        "colab": {
          "base_uri": "https://localhost:8080/"
        },
        "id": "biDLcCeaK28s",
        "outputId": "0af29d27-872c-4de2-80d0-044f86149749"
      },
      "execution_count": 33,
      "outputs": [
        {
          "output_type": "stream",
          "name": "stdout",
          "text": [
            "Digite o primeiro número: 5\n",
            "Digite o segundo número: 6\n",
            "A soma dos números é 11\n"
          ]
        }
      ]
    },
    {
      "cell_type": "markdown",
      "source": [
        "3. Faça um programa que calcule a área de um retângulo"
      ],
      "metadata": {
        "id": "PToSU5e-OYYE"
      }
    },
    {
      "cell_type": "code",
      "source": [
        "b = float(input(\"Digite a base: \"))\n",
        "h = float(input(\"Digite a altura: \"))\n",
        "a = float((b*h))\n",
        "print(f'A área do retângulo é {a}')"
      ],
      "metadata": {
        "colab": {
          "base_uri": "https://localhost:8080/"
        },
        "id": "ZagpIC33OnQ1",
        "outputId": "63666fda-b041-4552-80cc-8463bcdec60e"
      },
      "execution_count": 39,
      "outputs": [
        {
          "output_type": "stream",
          "name": "stdout",
          "text": [
            "Digite a base: 7\n",
            "Digite a altura: 7\n",
            "A área do retângulo é 49.0\n"
          ]
        }
      ]
    },
    {
      "cell_type": "markdown",
      "source": [
        "4. Faça um programa que calcule a área de um triângulo"
      ],
      "metadata": {
        "id": "C9TvzIgiQ5wt"
      }
    },
    {
      "cell_type": "code",
      "source": [
        "b = float(input(\"Digite a base: \"))\n",
        "h = float(input(\"Digite a altura: \"))\n",
        "a = float((b*h)/2)\n",
        "print(f'A área do triangulo é {a}')"
      ],
      "metadata": {
        "colab": {
          "base_uri": "https://localhost:8080/"
        },
        "id": "rZ0e8VnBRESv",
        "outputId": "c5a0d345-0cc1-4e2c-84c7-eedff3e521fe"
      },
      "execution_count": 40,
      "outputs": [
        {
          "output_type": "stream",
          "name": "stdout",
          "text": [
            "Digite a base: 4\n",
            "Digite a altura: 5\n",
            "A área do triangulo é 10.0\n"
          ]
        }
      ]
    },
    {
      "cell_type": "markdown",
      "source": [
        "5. Leia 3 notas de um aluno, calcule e mostre sua média"
      ],
      "metadata": {
        "id": "iGgejsUVR4NH"
      }
    },
    {
      "cell_type": "code",
      "source": [
        "nome = input(\"Digite o nome do aluno: \")\n",
        "nota1 = int(input(\"Primeira Nota: \"))\n",
        "nota2 = int(input(\"Segundo Nota: \"))\n",
        "nota3 = int(input(\"Terceiro Nota: \"))\n",
        "media = int((nota1 + nota2 + nota3)/3)\n",
        "if media > 6:\n",
        " print(f'O aluno {nome}, está com sua média {media}, está aprovado')\n",
        "else:\n",
        " print(f'O aluno {nome}, está com sua média {media}, está reprovado')"
      ],
      "metadata": {
        "id": "rH5-4_llR9aD"
      },
      "execution_count": null,
      "outputs": []
    },
    {
      "cell_type": "markdown",
      "source": [
        "6. Faça um programa que calcule o  IMC(Índice de Massa Corporal) de uma pessoa. O prgrama deve ler o peso e a altura e calcular segundo a fórmula:"
      ],
      "metadata": {
        "id": "LzJ5je8IR-iV"
      }
    },
    {
      "cell_type": "code",
      "source": [
        "peso = float(input(\"Digite seu peso: \"))\n",
        "altura = float(input(\"Digite sua altura: \"))\n",
        "resultado = peso / altura**2\n",
        "if resultado < 18.5:\n",
        " print(f\"Seu IMC é de {resultado:,.2f}, você está abaixo do peso\")\n",
        "elif resultado == 18.5 or resultado <= 24.9:\n",
        " print(f\"Seu IMC é de {resultado:,.2f}, seu peso está normal\")\n",
        "else:\n",
        " print(f\"Seu IMC é de {resultado:,.2f}, você está acima do peso\")"
      ],
      "metadata": {
        "colab": {
          "base_uri": "https://localhost:8080/"
        },
        "id": "VE6H9CBNSO-X",
        "outputId": "5ce2ead4-464b-4ae5-e55b-87205bb4d721"
      },
      "execution_count": 48,
      "outputs": [
        {
          "output_type": "stream",
          "name": "stdout",
          "text": [
            "Digite seu peso: 75\n",
            "Digite sua altura: 1.90\n",
            "Seu IMC é de 20.78, seu peso está normal\n"
          ]
        }
      ]
    },
    {
      "cell_type": "markdown",
      "source": [
        "7. Faça um programa que leia o salário de um funcionário e calcule um bônus de 5% do seu saário. No final, mostre o novo salário do funcionário"
      ],
      "metadata": {
        "id": "3Nu3hXMXVzFE"
      }
    },
    {
      "cell_type": "code",
      "source": [
        "nome = input(\"Digite o nome do funcionário: \")\n",
        "salario = float(input(\"Digite o salário do funcionário: \"))\n",
        "qtdbonus = float(input(\"Qual vai ser a porcentagem de aumento do salário do funcionário?: \"))\n",
        "bonus = float((salario*qtdbonus)/100)\n",
        "salario_final = salario + bonus\n",
        "print(f\"O funcionário {nome}, com o seu salário de R${salario} terá um aumento de {qtdbonus}%, ficando R${salario_final}\")"
      ],
      "metadata": {
        "colab": {
          "base_uri": "https://localhost:8080/"
        },
        "id": "NrY67Ri3WPCK",
        "outputId": "3a7879cb-88de-42fb-8493-ad51ac03ac7c"
      },
      "execution_count": 50,
      "outputs": [
        {
          "output_type": "stream",
          "name": "stdout",
          "text": [
            "Digite o nome do funcionário: Felipe\n",
            "Digite o salário do funcionário: 1000\n",
            "Qual vai ser a porcentagem de aumento do salário do funcionário?: 100\n",
            "O funcionário Felipe, com o seu salário de 1000.0 terá um aumento de 100.0%, ficando 2000.0\n"
          ]
        }
      ]
    },
    {
      "cell_type": "markdown",
      "source": [
        "8. Faça um programa que leia uma temperatura em graus Celsius e converta em grau Farenheit.\n",
        "\n",
        "\n",
        "*   Fórmula: f = (c*9/5) + 32\n",
        "\n",
        "\n"
      ],
      "metadata": {
        "id": "GZme8tQDX6pe"
      }
    },
    {
      "cell_type": "code",
      "source": [
        "c = ()"
      ],
      "metadata": {
        "id": "5tNLYOVTYbnq"
      },
      "execution_count": null,
      "outputs": []
    },
    {
      "cell_type": "markdown",
      "source": [
        "9. Faça um programa que calcule a área e o comprimento de uma circunferência"
      ],
      "metadata": {
        "id": "bwlhQUNTYe8i"
      }
    },
    {
      "cell_type": "code",
      "source": [],
      "metadata": {
        "id": "zjsMfk8zY0St"
      },
      "execution_count": null,
      "outputs": []
    },
    {
      "cell_type": "markdown",
      "source": [
        "10. Faça um programa que leia o ano em que uma pessoa nasceu e mostre quantos anos ela tem em 2024."
      ],
      "metadata": {
        "id": "otlxihbAY0lJ"
      }
    },
    {
      "cell_type": "code",
      "source": [],
      "metadata": {
        "id": "IPv37FPHY92R"
      },
      "execution_count": null,
      "outputs": []
    }
  ]
}